{
  "nbformat": 4,
  "nbformat_minor": 0,
  "metadata": {
    "colab": {
      "provenance": []
    },
    "kernelspec": {
      "name": "python3",
      "display_name": "Python 3"
    },
    "language_info": {
      "name": "python"
    }
  },
  "cells": [
    {
      "cell_type": "code",
      "execution_count": 10,
      "metadata": {
        "colab": {
          "base_uri": "https://localhost:8080/"
        },
        "id": "SbcGNYut_1nO",
        "outputId": "a0456820-8898-400a-a9c0-56eb69ea0d76"
      },
      "outputs": [
        {
          "output_type": "stream",
          "name": "stdout",
          "text": [
            "Extra spent is 150\n",
            "total expense is 7150\n",
            "Month is not found\n",
            "The new month expense list is  [2200, 2350, 2600, 2130, 2190, 1980]\n",
            "The expense list after the refund is [2200, 2350, 2600, 1930, 2190, 1980]\n"
          ]
        }
      ],
      "source": [
        "monthly_expenses = [2200, 2350, 2600, 2130, 2190]\n",
        "extra_spent=monthly_expenses[1]-monthly_expenses[0]\n",
        "print(f'Extra spent is {extra_spent}')\n",
        "\n",
        "total_expense=0\n",
        "for i in range(3):\n",
        "   total_expense+=monthly_expenses[i]\n",
        "print(f'total expense is {total_expense}')\n",
        "\n",
        "flag=False\n",
        "for expense in  monthly_expenses:\n",
        "   if expense == 2000:\n",
        "      flag = True\n",
        "\n",
        "if flag :\n",
        "   print(\"Month is found\")\n",
        "else :\n",
        "   print(\"Month is not found\")\n",
        "\n",
        "monthly_expenses.append(1980)\n",
        "print(f'The new month expense list is  {monthly_expenses}')\n",
        "\n",
        "\n",
        "monthly_expenses[3]=monthly_expenses[3]-200\n",
        "\n",
        "print(f\"The expense list after the refund is {monthly_expenses}\")\n"
      ]
    },
    {
      "cell_type": "code",
      "source": [
        "# The efficient way for the above solution is\n",
        "\n",
        "# Step 1: Create the list\n",
        "monthly_expenses = [2200, 2350, 2600, 2130, 2190]\n",
        "\n",
        "# Step 2: Solve each problem\n",
        "\n",
        "# 1. Extra dollars spent in February compared to January\n",
        "extra_feb = monthly_expenses[1] - monthly_expenses[0]\n",
        "print(\"Extra dollars spent in February compared to January:\", extra_feb)\n",
        "\n",
        "# 2. Total expense in the first quarter\n",
        "total_first_quarter = sum(monthly_expenses[:3])\n",
        "print(\"Total expense in the first quarter:\", total_first_quarter)\n",
        "\n",
        "# 3. Check if exactly 2000 dollars was spent in any month\n",
        "spent_2000 = 2000 in monthly_expenses\n",
        "print(\"Spent exactly 2000 dollars in any month:\", spent_2000)\n",
        "\n",
        "# 4. Add June's expense to the list\n",
        "monthly_expenses.append(1980)\n",
        "print(\"Monthly expenses after adding June:\", monthly_expenses)\n",
        "\n",
        "# 5. Correct April's expense after refund\n",
        "monthly_expenses[3] -= 200\n",
        "print(\"Monthly expenses after refund in April:\", monthly_expenses)\n",
        "\n",
        "print(dir(monthly_expenses))"
      ],
      "metadata": {
        "colab": {
          "base_uri": "https://localhost:8080/"
        },
        "id": "K-45AtmrJmxT",
        "outputId": "80cdbc3c-6ff3-4241-ce51-42f3a77a76f0"
      },
      "execution_count": 26,
      "outputs": [
        {
          "output_type": "stream",
          "name": "stdout",
          "text": [
            "Extra dollars spent in February compared to January: 150\n",
            "Total expense in the first quarter: 7150\n",
            "Spent exactly 2000 dollars in any month: False\n",
            "Monthly expenses after adding June: [2200, 2350, 2600, 2130, 2190, 1980]\n",
            "Monthly expenses after refund in April: [2200, 2350, 2600, 1930, 2190, 1980]\n",
            "['__add__', '__class__', '__class_getitem__', '__contains__', '__delattr__', '__delitem__', '__dir__', '__doc__', '__eq__', '__format__', '__ge__', '__getattribute__', '__getitem__', '__gt__', '__hash__', '__iadd__', '__imul__', '__init__', '__init_subclass__', '__iter__', '__le__', '__len__', '__lt__', '__mul__', '__ne__', '__new__', '__reduce__', '__reduce_ex__', '__repr__', '__reversed__', '__rmul__', '__setattr__', '__setitem__', '__sizeof__', '__str__', '__subclasshook__', 'append', 'clear', 'copy', 'count', 'extend', 'index', 'insert', 'pop', 'remove', 'reverse', 'sort']\n"
          ]
        }
      ]
    },
    {
      "cell_type": "code",
      "source": [
        "heros=['spider man','thor','hulk','iron man','captain america']\n",
        "print(f'The length of the list is {len(heros)}')\n",
        "\n",
        "heros.append('black panther')\n",
        "print(f'The array after the insert is {heros}')\n",
        "\n",
        "heros.remove(\"black panther\")\n",
        "print(f'The array after the remove black panther is {heros}')\n",
        "\n",
        "hulk_index=heros.index('hulk')\n",
        "print(f\"The index of hulk is {hulk_index}\")\n",
        "\n",
        "heros.insert(hulk_index+1,\"black panther\")\n",
        "print(f\"The final list is {heros}\")\n",
        "\n",
        "heros[hulk_index]=\"doctor\"\n",
        "\n",
        "print(f\"list after the replacement is {heros}\")\n",
        "\n",
        "print(dir(heros))\n",
        "\n",
        "heros.sort()\n",
        "print(f\"The sorting list is {heros}\")\n"
      ],
      "metadata": {
        "colab": {
          "base_uri": "https://localhost:8080/"
        },
        "id": "7yXu0pvfKOd5",
        "outputId": "86a3ddd3-fcaa-4466-a95a-5ab89f940666"
      },
      "execution_count": 27,
      "outputs": [
        {
          "output_type": "stream",
          "name": "stdout",
          "text": [
            "The length of the list is 5\n",
            "The array after the insert is ['spider man', 'thor', 'hulk', 'iron man', 'captain america', 'black panther']\n",
            "The array after the remove black panther is ['spider man', 'thor', 'hulk', 'iron man', 'captain america']\n",
            "The index of hulk is 2\n",
            "The final list is ['spider man', 'thor', 'hulk', 'black panther', 'iron man', 'captain america']\n",
            "list after the replacement is ['spider man', 'thor', 'doctor', 'black panther', 'iron man', 'captain america']\n",
            "['__add__', '__class__', '__class_getitem__', '__contains__', '__delattr__', '__delitem__', '__dir__', '__doc__', '__eq__', '__format__', '__ge__', '__getattribute__', '__getitem__', '__gt__', '__hash__', '__iadd__', '__imul__', '__init__', '__init_subclass__', '__iter__', '__le__', '__len__', '__lt__', '__mul__', '__ne__', '__new__', '__reduce__', '__reduce_ex__', '__repr__', '__reversed__', '__rmul__', '__setattr__', '__setitem__', '__sizeof__', '__str__', '__subclasshook__', 'append', 'clear', 'copy', 'count', 'extend', 'index', 'insert', 'pop', 'remove', 'reverse', 'sort']\n",
            "The sorting list is ['black panther', 'captain america', 'doctor', 'iron man', 'spider man', 'thor']\n"
          ]
        }
      ]
    }
  ]
}