{
  "nbformat": 4,
  "nbformat_minor": 0,
  "metadata": {
    "colab": {
      "provenance": []
    },
    "kernelspec": {
      "name": "python3",
      "display_name": "Python 3"
    },
    "language_info": {
      "name": "python"
    }
  },
  "cells": [
    {
      "cell_type": "code",
      "execution_count": 12,
      "metadata": {
        "colab": {
          "base_uri": "https://localhost:8080/"
        },
        "id": "Nb43N3eVxHKV",
        "outputId": "da598f76-6762-4c4c-fcfb-1c8fed204b70"
      },
      "outputs": [
        {
          "output_type": "stream",
          "name": "stdout",
          "text": [
            "Select the option: remove\n",
            "['__class__', '__class_getitem__', '__contains__', '__delattr__', '__delitem__', '__dir__', '__doc__', '__eq__', '__format__', '__ge__', '__getattribute__', '__getitem__', '__gt__', '__hash__', '__init__', '__init_subclass__', '__ior__', '__iter__', '__le__', '__len__', '__lt__', '__ne__', '__new__', '__or__', '__reduce__', '__reduce_ex__', '__repr__', '__reversed__', '__ror__', '__setattr__', '__setitem__', '__sizeof__', '__str__', '__subclasshook__', 'clear', 'copy', 'fromkeys', 'get', 'items', 'keys', 'pop', 'popitem', 'setdefault', 'update', 'values']\n",
            "Enter the country name you want to removeUSA\n",
            "china ==> 143\n",
            "India ==> 136\n",
            "Pakistan ==> 21\n"
          ]
        }
      ],
      "source": [
        "def display():\n",
        "   for key,value in countries.items():\n",
        "       print(f\"{key} ==> {value}\")\n",
        "\n",
        "\n",
        "def add():\n",
        "   country_name=input(\"Enter the country name you want to add\")\n",
        "   if countries.get(country_name) == None :\n",
        "      population=input(\"Please enter the population\")\n",
        "      countries[country_name]=population\n",
        "   else:\n",
        "      print(\"already exist\")\n",
        "   display()\n",
        "\n",
        "\n",
        "def remove():\n",
        "   country_name=input(\"Enter the country name you want to remove\")\n",
        "   if countries.get(country_name) == None :\n",
        "      print(\"Country name does not exist\")\n",
        "   else:\n",
        "      del countries[country_name]\n",
        "\n",
        "   display()\n",
        "\n",
        "countries={\n",
        "    \"china\":143,\n",
        "    \"India\":136,\n",
        "    \"USA\":32,\n",
        "    \"Pakistan\":21\n",
        "}\n",
        "\n",
        "# Get user input\n",
        "option = input(\"Select the option: \")\n",
        "print(dir(countries))\n",
        "\n",
        "if option == \"print\":\n",
        "    display()\n",
        "elif option == \"add\":\n",
        "    add()\n",
        "elif option == \"remove\":\n",
        "    remove()\n",
        "\n",
        ""
      ]
    },
    {
      "cell_type": "code",
      "source": [
        "def display():\n",
        "\n",
        "   for keys,values in stocks.items():\n",
        "      avg=sum(values[0:len(values)])\n",
        "      avg=avg/len(values)\n",
        "      print(f\"{keys} ==> {values} ==> avg:{avg}\")\n",
        "\n",
        "def main():\n",
        "\n",
        "   stocks={\n",
        "       \"info\":[600,630,620],\n",
        "       \"ril\":[1430,1490,1567],\n",
        "       \"mtl\":[234,180,160]\n",
        "   }\n",
        "\n",
        "   char_input = input(\"Enter a single character: \")\n",
        "\n",
        "   if char_input==\"a\":\n",
        "      display()\n",
        "\n",
        "\n",
        "if __name__ == \"__main__\":\n",
        "    main()\n"
      ],
      "metadata": {
        "colab": {
          "base_uri": "https://localhost:8080/"
        },
        "id": "-wegHwjA7Ft5",
        "outputId": "80f9f42a-8f39-40bb-aaa7-9d6a04b3ed8e"
      },
      "execution_count": 17,
      "outputs": [
        {
          "output_type": "stream",
          "name": "stdout",
          "text": [
            "Enter a single character: a\n",
            "info ==> [600, 630, 620] ==> avg:616.6666666666666\n",
            "ril ==> [1430, 1490, 1567] ==> avg:1495.6666666666667\n",
            "mtl ==> [234, 180, 160] ==> avg:191.33333333333334\n"
          ]
        }
      ]
    }
  ]
}