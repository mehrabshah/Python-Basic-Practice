{
  "nbformat": 4,
  "nbformat_minor": 0,
  "metadata": {
    "colab": {
      "provenance": []
    },
    "kernelspec": {
      "name": "python3",
      "display_name": "Python 3"
    },
    "language_info": {
      "name": "python"
    }
  },
  "cells": [
    {
      "cell_type": "code",
      "execution_count": 2,
      "metadata": {
        "colab": {
          "base_uri": "https://localhost:8080/"
        },
        "id": "Azm4KXuQmllz",
        "outputId": "15124305-d28a-48be-a270-d5f442f857f3"
      },
      "outputs": [
        {
          "output_type": "stream",
          "name": "stdout",
          "text": [
            "Enter the height of the triangle34\n",
            "Enter the base of the triangle44\n",
            "The area of the triangle is 748.0\n"
          ]
        }
      ],
      "source": [
        "def calculate_area(base,height):\n",
        "   area = 1/2 * base * height\n",
        "   return area\n",
        "\n",
        "\n",
        "height=int(input(\"Enter the height of the triangle\"))\n",
        "base=int(input(\"Enter the base of the triangle\"))\n",
        "result=calculate_area(base,height)\n",
        "\n",
        "print(f\"The area of the triangle is {result}\")\n"
      ]
    },
    {
      "cell_type": "code",
      "source": [
        "def pattern(number):\n",
        "   for i in range(number+1):\n",
        "      print(\"*\"*i)\n",
        "   print()\n",
        "\n",
        "\n",
        "number=int(input(\"Enter the number for which you want the pattern\"))\n",
        "pattern(number)\n"
      ],
      "metadata": {
        "colab": {
          "base_uri": "https://localhost:8080/"
        },
        "id": "ZOZRwi5zn933",
        "outputId": "5938c81f-5827-4a38-9f7c-706062e467a3"
      },
      "execution_count": 9,
      "outputs": [
        {
          "output_type": "stream",
          "name": "stdout",
          "text": [
            "Enter the number for which you want the pattern3\n",
            "\n",
            "*\n",
            "**\n",
            "***\n",
            "\n"
          ]
        }
      ]
    }
  ]
}